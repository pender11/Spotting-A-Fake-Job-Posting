{
 "cells": [
  {
   "cell_type": "markdown",
   "id": "1df00a8b",
   "metadata": {},
   "source": [
    "# Spotting A Fake Job Posting\n",
    "At first thought, fraudulent job postings don't seem to offer up much of a threat to society. However, cyber criminals are the ones creating these fraudulent postings in order to gain access to applicants' personal information. With this personal information, criminals can spoof identification cards, gain access to financial accounts, and even steal your identity.\n",
    "\n",
    "Our goal for this project is to aid the defense for the harm that can be done by these fraudulent job postings. To do this, we're going to build logistic regression models that are capable of accurately predicting whether or not a job posting is fraudulent.\n",
    "## Importing The Data\n",
    "We'll import Pandas, NumPy, and a few other libraries that will help us explore our data and build our models."
   ]
  },
  {
   "cell_type": "code",
   "execution_count": 54,
   "id": "62c0abe5",
   "metadata": {},
   "outputs": [],
   "source": [
    "# imports several useful libraries\n",
    "import pandas as pd\n",
    "import numpy as np\n",
    "import datetime\n",
    "from matplotlib import pyplot as plt\n",
    "from sklearn.linear_model import LinearRegression\n",
    "from sklearn.linear_model import LogisticRegression\n",
    "from sklearn.model_selection import train_test_split\n",
    "from sklearn.metrics import confusion_matrix\n",
    "from sklearn.metrics import classification_report\n",
    "from sklearn.preprocessing import LabelEncoder\n",
    "from itertools import chain, combinations\n",
    "\n",
    "# reads our data into a data frame from our .csv file\n",
    "df = pd.read_csv('fake_job_postings.csv')"
   ]
  },
  {
   "cell_type": "markdown",
   "id": "f1505134",
   "metadata": {},
   "source": [
    "## Initial Exploration\n",
    "Our data contains both fraudulent and non-fraudulent postings. As we can see below, the non-fraudulent postings far outweigh the fraudulent postings. This is an indication that we'll have to undersample our data when making our models."
   ]
  },
  {
   "cell_type": "code",
   "execution_count": 55,
   "id": "dc85ac91",
   "metadata": {
    "scrolled": false
   },
   "outputs": [
    {
     "name": "stdout",
     "output_type": "stream",
     "text": [
      "Only 4.84% of the postings in our data are fraudulent\n"
     ]
    }
   ],
   "source": [
    "# finds the number and percentage of fraudulent postings in our data\n",
    "fraud_rows = df['fraudulent'].sum()\n",
    "total_rows = df.shape[0]\n",
    "pct_fraud = ((fraud_rows / total_rows) * 100).round(2).astype(str) + '%'\n",
    "\n",
    "print('Only', pct_fraud, 'of the postings in our data are fraudulent')"
   ]
  },
  {
   "cell_type": "markdown",
   "id": "2331d2ac",
   "metadata": {},
   "source": [
    "Our data also has lots of cells with a value of `Null`. We can't create models with `Null` values in our data, so this is something we'll have to fix later as well."
   ]
  },
  {
   "cell_type": "code",
   "execution_count": 56,
   "id": "4e815b5e",
   "metadata": {},
   "outputs": [
    {
     "name": "stdout",
     "output_type": "stream",
     "text": [
      "job_id: 0 null values (0.0%)\n",
      "title: 0 null values (0.0%)\n",
      "location: 346 null values (1.94%)\n",
      "department: 11547 null values (64.58%)\n",
      "salary_range: 15012 null values (83.96%)\n",
      "company_profile: 3308 null values (18.5%)\n",
      "description: 1 null values (0.01%)\n",
      "requirements: 2695 null values (15.07%)\n",
      "benefits: 7210 null values (40.32%)\n",
      "telecommuting: 0 null values (0.0%)\n",
      "has_company_logo: 0 null values (0.0%)\n",
      "has_questions: 0 null values (0.0%)\n",
      "employment_type: 3471 null values (19.41%)\n",
      "required_experience: 7050 null values (39.43%)\n",
      "required_education: 8105 null values (45.33%)\n",
      "industry: 4903 null values (27.42%)\n",
      "function: 6455 null values (36.1%)\n",
      "fraudulent: 0 null values (0.0%)\n"
     ]
    }
   ],
   "source": [
    "# shows the number and percentage of null values for each column\n",
    "for col in df.columns:\n",
    "    null_rows = df[col].isnull().sum()\n",
    "    null_pct = ((null_rows / total_rows) * 100).round(2).astype(str) + '%'\n",
    "    print('{}: {} null values ({})'.format(col, null_rows, null_pct))"
   ]
  },
  {
   "cell_type": "markdown",
   "id": "8e42ff50",
   "metadata": {},
   "source": [
    "In order to identify some general trends in our data, we'll break down the `Null` values visually."
   ]
  },
  {
   "cell_type": "code",
   "execution_count": 57,
   "id": "e2151356",
   "metadata": {},
   "outputs": [
    {
     "data": {
      "image/png": "[encoded data removed]",
      "text/plain": [
       "<Figure size 864x576 with 1 Axes>"
      ]
     },
     "metadata": {
      "needs_background": "light"
     },
     "output_type": "display_data"
    }
   ],
   "source": [
    "if df.isnull().sum().sum() != 0:\n",
    "        na_df = (df.isnull().sum() / len(df)) * 100      \n",
    "        na_df = na_df.drop(na_df[na_df == 0].index).sort_values(ascending=False)\n",
    "        missing_data = pd.DataFrame({'Missing %' : na_df})\n",
    "        # plots our missing data\n",
    "        missing_data.plot(kind = \"barh\",color='gray', figsize = (12, 8))\n",
    "        # adjusts aesthetic elements\n",
    "        plt.xlabel('% Missing', fontsize = 14)\n",
    "        plt.title('Percent of Missing Per Column', fontsize = 20)\n",
    "        plt.show()"
   ]
  },
  {
   "cell_type": "markdown",
   "id": "06fe605a",
   "metadata": {},
   "source": [
    "For the whole dataset, the `salary_range` column appears to be missing the most values followed by `department` and `required_education`."
   ]
  },
  {
   "cell_type": "markdown",
   "id": "4d62ffcf",
   "metadata": {},
   "source": [
    "## Cleaning Our Data\n",
    "In order to make prediction models, we need to fix some aspects of our data.\n",
    "\n",
    "### Filling Null Values\n",
    "In order to create models, we have to get rid of all `Null` values. In our case, we can't simply drop them because it would delete a large portion of our data. However, luckily for us all of the cells that have a `Null` value are of the `object` data type. So, we can just fill all of those cells with an empty string."
   ]
  },
  {
   "cell_type": "code",
   "execution_count": 58,
   "id": "4a20bf33",
   "metadata": {},
   "outputs": [],
   "source": [
    "# fills null values in columns with an 'object' type with an empty string\n",
    "for col in df.select_dtypes(include = 'object').columns:\n",
    "    df[col] = df[col].fillna('')"
   ]
  },
  {
   "cell_type": "markdown",
   "id": "ff8f0268",
   "metadata": {},
   "source": [
    "Below we can see that we no longer have any `Null` values!"
   ]
  },
  {
   "cell_type": "code",
   "execution_count": 59,
   "id": "37365d36",
   "metadata": {},
   "outputs": [
    {
     "name": "stdout",
     "output_type": "stream",
     "text": [
      "job_id: 0 null values (0.0%)\n",
      "title: 0 null values (0.0%)\n",
      "location: 0 null values (0.0%)\n",
      "department: 0 null values (0.0%)\n",
      "salary_range: 0 null values (0.0%)\n",
      "company_profile: 0 null values (0.0%)\n",
      "description: 0 null values (0.0%)\n",
      "requirements: 0 null values (0.0%)\n",
      "benefits: 0 null values (0.0%)\n",
      "telecommuting: 0 null values (0.0%)\n",
      "has_company_logo: 0 null values (0.0%)\n",
      "has_questions: 0 null values (0.0%)\n",
      "employment_type: 0 null values (0.0%)\n",
      "required_experience: 0 null values (0.0%)\n",
      "required_education: 0 null values (0.0%)\n",
      "industry: 0 null values (0.0%)\n",
      "function: 0 null values (0.0%)\n",
      "fraudulent: 0 null values (0.0%)\n"
     ]
    }
   ],
   "source": [
    "# shows the number and percentage of null values for each column\n",
    "for col in df.columns:\n",
    "    null_rows = df[col].isnull().sum()\n",
    "    null_pct = ((null_rows / total_rows) * 100).round(2).astype(str) + '%'\n",
    "    print('{}: {} null values ({})'.format(col, null_rows, null_pct))"
   ]
  },
  {
   "cell_type": "markdown",
   "id": "057eaed0",
   "metadata": {},
   "source": [
    "### Removing & Updating Columns\n",
    "We can't create models using columns that have an `object` data type. Some of these columns contain long lines of text and others are just one word. For the long lines of text, we can create new columns that contain a word count of the text. However, the columns with one word in them are a little trickier. We can use `LabelEncoder` from `sklearn` to convert them to integers, but this is only useful if there isn't an absurd amount of unique values in the column. So, let's remove the columns with more than 20 unique values. We're also going to drop the `location` and `job_id` columns."
   ]
  },
  {
   "cell_type": "code",
   "execution_count": 60,
   "id": "1cf0a7bb",
   "metadata": {},
   "outputs": [],
   "source": [
    "# initiates a list of all one word columns\n",
    "one_word_cols = ['title', 'department', 'salary_range', 'employment_type', 'required_experience',\n",
    "                'required_education', 'industry', 'function']\n",
    "\n",
    "# goes through the list and drops the ones with a high amount of unique values\n",
    "for col in one_word_cols:\n",
    "    unique_values = df[col].nunique()\n",
    "    if unique_values > 20:\n",
    "        df = df.drop(col, axis = 1)\n",
    "\n",
    "# drops other columns we don't need\n",
    "df = df.drop(['location', 'job_id'], axis = 1)"
   ]
  },
  {
   "cell_type": "markdown",
   "id": "1c60c5ca",
   "metadata": {},
   "source": [
    "Great! We are left with the `employment_type`, `required_experience`, and `required_education` columns. Now we can use `LabelEncoder` to convert our strings to integers."
   ]
  },
  {
   "cell_type": "code",
   "execution_count": 61,
   "id": "fa1b6b99",
   "metadata": {},
   "outputs": [],
   "source": [
    "le = LabelEncoder()\n",
    "encode_cols = ['employment_type', 'required_experience', 'required_education']\n",
    "\n",
    "for col in encode_cols:\n",
    "    df[col] = le.fit_transform(df[col])"
   ]
  },
  {
   "cell_type": "markdown",
   "id": "0037fd0a",
   "metadata": {},
   "source": [
    "Now that that's done, we can convert the paragraph columns to a word count."
   ]
  },
  {
   "cell_type": "code",
   "execution_count": 62,
   "id": "d4f0f479",
   "metadata": {},
   "outputs": [],
   "source": [
    "paragraph_cols = ['company_profile', 'description', 'requirements', 'benefits']\n",
    "\n",
    "for col in paragraph_cols:\n",
    "    df[col] = df[col].str.split().str.len()"
   ]
  },
  {
   "cell_type": "markdown",
   "id": "903fcb7b",
   "metadata": {},
   "source": [
    "Our data is now ready to be fit to models. Here's a visual of our word counts for further understanding."
   ]
  },
  {
   "cell_type": "code",
   "execution_count": 63,
   "id": "c519733c",
   "metadata": {},
   "outputs": [
    {
     "data": {
      "image/png": "[encoded data removed]",
      "text/plain": [
       "<Figure size 864x576 with 1 Axes>"
      ]
     },
     "metadata": {
      "needs_background": "light"
     },
     "output_type": "display_data"
    }
   ],
   "source": [
    "counts = {'fraudulent': [159,71,51,98],\n",
    "          'normal': [168,86,51,101],\n",
    "          'count_type': ['description','requirements','benefits','company_profile']\n",
    "}\n",
    "\n",
    "df_counts = pd.DataFrame(counts)\n",
    "df_counts.plot(x = 'count_type',\n",
    "               kind = 'bar',\n",
    "               stacked = False,\n",
    "               color = ['k','gray'],\n",
    "               figsize = (12, 8))\n",
    "plt.xticks(rotation = 45)\n",
    "plt.xlabel('Column', fontsize = 14)\n",
    "plt.ylabel('Word Count', fontsize = 14)\n",
    "plt.title('Word Count For Paragraph Columns', fontsize = 20)\n",
    "plt.show()"
   ]
  },
  {
   "cell_type": "markdown",
   "id": "a82f0ea7",
   "metadata": {},
   "source": [
    "## Building Models\n",
    "As mentioned earlier, we're going to have to undersample our data to ensure that our models are making the most accurate predictions possible. We're also going to split our undersampled data into training and testing sets."
   ]
  },
  {
   "cell_type": "code",
   "execution_count": 64,
   "id": "5182c019",
   "metadata": {},
   "outputs": [],
   "source": [
    "clf = LogisticRegression(max_iter = 1000)\n",
    "\n",
    "# splits our data into two data frames with an equal amount of fraud/non-fraud postings\n",
    "fraud_df = df[df['fraudulent'] == 1]\n",
    "nonfraud_df = df[df['fraudulent'] == 0].sample(fraud_df.shape[0])\n",
    "\n",
    "# combines our new data frames together\n",
    "new_df = pd.concat([fraud_df, nonfraud_df])\n",
    "\n",
    "# creates a training and testing set of data\n",
    "train_df, test_df = train_test_split(new_df, test_size = 0.3)"
   ]
  },
  {
   "cell_type": "markdown",
   "id": "5f24c013",
   "metadata": {},
   "source": [
    "Now, we can start to get a better idea of what columns we want to make use of in our predictions. Let's look at the correlation coefficients to see if any columns stand out."
   ]
  },
  {
   "cell_type": "code",
   "execution_count": 65,
   "id": "7e929a3a",
   "metadata": {},
   "outputs": [
    {
     "data": {
      "text/plain": [
       "company_profile       -0.407200\n",
       "description           -0.049692\n",
       "requirements          -0.152237\n",
       "benefits               0.005488\n",
       "telecommuting          0.063765\n",
       "has_company_logo      -0.476072\n",
       "has_questions         -0.243164\n",
       "employment_type       -0.015375\n",
       "required_experience   -0.089710\n",
       "required_education     0.037520\n",
       "fraudulent             1.000000\n",
       "Name: fraudulent, dtype: float64"
      ]
     },
     "execution_count": 65,
     "metadata": {},
     "output_type": "execute_result"
    }
   ],
   "source": [
    "# shows correlation values for the fraudulent column\n",
    "new_df.corr()['fraudulent']"
   ]
  },
  {
   "cell_type": "markdown",
   "id": "b0857ece",
   "metadata": {},
   "source": [
    "The columns that stand out the most appear to be `company_profile` and `has_company_logo`. Let's make our first models according to these columns. In order to make building these models easier, we'll define a new function that will do it for us."
   ]
  },
  {
   "cell_type": "code",
   "execution_count": 66,
   "id": "8e3d58fb",
   "metadata": {},
   "outputs": [],
   "source": [
    "def model(X_train, X_test, y_train, y_test, name):\n",
    "    clf.fit(X_train, y_train)\n",
    "    print('{}: {}'.format(name, clf.score(X_test,y_test).round(2)))\n",
    "    print(classification_report(y_test, clf.predict(X_test)))"
   ]
  },
  {
   "cell_type": "markdown",
   "id": "537d7dce",
   "metadata": {},
   "source": [
    "### The LoCoPro Model\n",
    "Let's use our new function to create models for the Logo and Company Profile columns."
   ]
  },
  {
   "cell_type": "code",
   "execution_count": 67,
   "id": "07b7172d",
   "metadata": {},
   "outputs": [
    {
     "name": "stdout",
     "output_type": "stream",
     "text": [
      "Logo: 0.71\n",
      "              precision    recall  f1-score   support\n",
      "\n",
      "           0       0.66      0.78      0.72       240\n",
      "           1       0.78      0.66      0.71       280\n",
      "\n",
      "    accuracy                           0.71       520\n",
      "   macro avg       0.72      0.72      0.71       520\n",
      "weighted avg       0.72      0.71      0.71       520\n",
      "\n",
      "Company Profile: 0.69\n",
      "              precision    recall  f1-score   support\n",
      "\n",
      "           0       0.66      0.65      0.66       240\n",
      "           1       0.71      0.71      0.71       280\n",
      "\n",
      "    accuracy                           0.69       520\n",
      "   macro avg       0.68      0.68      0.68       520\n",
      "weighted avg       0.69      0.69      0.69       520\n",
      "\n"
     ]
    }
   ],
   "source": [
    "y_train = train_df['fraudulent']\n",
    "y_test = test_df['fraudulent']\n",
    "\n",
    "X1_train = train_df['has_company_logo'].values.reshape(-1, 1)\n",
    "X1_test = test_df['has_company_logo'].values.reshape(-1, 1)\n",
    "X2_train = train_df['company_profile'].values.reshape(-1, 1)\n",
    "X2_test = test_df['company_profile'].values.reshape(-1, 1)\n",
    "\n",
    "model(X1_train, X1_test, y_train, y_test, 'Logo')\n",
    "model(X2_train, X2_test, y_train, y_test, 'Company Profile')"
   ]
  },
  {
   "cell_type": "markdown",
   "id": "e04f7311",
   "metadata": {},
   "source": [
    "As the classification reports show us, the Logo Model has a higher score and has a higher precision when predicting fraudulent postings. However, the Company Profile Model has a higher precisions when predicting non-fraudulent postings. Let's try combining these columns to see if we can get a better model."
   ]
  },
  {
   "cell_type": "code",
   "execution_count": 68,
   "id": "7cef80e5",
   "metadata": {},
   "outputs": [
    {
     "name": "stdout",
     "output_type": "stream",
     "text": [
      "Logo/Company Profile: 0.71\n",
      "              precision    recall  f1-score   support\n",
      "\n",
      "           0       0.66      0.78      0.72       240\n",
      "           1       0.78      0.66      0.71       280\n",
      "\n",
      "    accuracy                           0.71       520\n",
      "   macro avg       0.72      0.72      0.71       520\n",
      "weighted avg       0.72      0.71      0.71       520\n",
      "\n"
     ]
    }
   ],
   "source": [
    "X3_train = train_df[['has_company_logo', 'company_profile']]\n",
    "X3_test = test_df[['has_company_logo', 'company_profile']]\n",
    "\n",
    "\n",
    "model(X3_train, X3_test, y_train, y_test, 'Logo/Company Profile')"
   ]
  },
  {
   "cell_type": "markdown",
   "id": "f35a16de",
   "metadata": {},
   "source": [
    "Great! Our combined model is very slightly better than either of the columns working on their own. Now let's look at the probabilities our model was dealing with while predicting."
   ]
  },
  {
   "cell_type": "code",
   "execution_count": 69,
   "id": "ee96c170",
   "metadata": {
    "scrolled": false
   },
   "outputs": [
    {
     "data": {
      "image/png": "[encoded data removed]",
      "text/plain": [
       "<Figure size 864x576 with 1 Axes>"
      ]
     },
     "metadata": {
      "needs_background": "light"
     },
     "output_type": "display_data"
    }
   ],
   "source": [
    "# creates a new dataframe of the predicted probabilities of shots\n",
    "fraud_df = pd.DataFrame(clf.predict_proba(X3_test))\n",
    "fraud_df.columns = ['non_fraudulent', 'fraudulent']\n",
    "\n",
    "# plots the requested information\n",
    "import matplotlib.pyplot as plt\n",
    "fig2 = plt.figure(figsize = (12, 8))\n",
    "plt.hist(x = fraud_df['fraudulent'], color = 'gray', bins = 10)\n",
    "plt.xlim([0, 1])\n",
    "plt.title('Fraudulent Postings', fontsize = 20)\n",
    "plt.xlabel('Predicted Probability of Fraudulence', fontsize = 14)\n",
    "plt.ylabel('Number of Posts', fontsize = 14)\n",
    "plt.tick_params(axis = 'x', labelsize = 14)\n",
    "plt.tick_params(axis = 'y', labelsize = 14)\n",
    "\n",
    "plt.show()"
   ]
  },
  {
   "cell_type": "markdown",
   "id": "792087f5",
   "metadata": {},
   "source": [
    "Our plot indicates that the Logo/Company Profile Model makes some correct predictions when the predicted probability is below 50%. However, the model's confidence skyrockets when the predicted probability is over 70%, with over 200 occurrences of that happening.\n",
    "\n",
    "Our original goal was to accurately weed out fraudulent job postings using a logistic regression model. As demonstrated above, the model constructed has done just that and could be put to use to prevent cyber criminals from stealing personal information in the future."
   ]
  },
  {
   "cell_type": "code",
   "execution_count": 70,
   "id": "3f1d8f53",
   "metadata": {},
   "outputs": [],
   "source": [
    "# exports our data\n",
    "df.to_csv('cleaned_job_postings.csv')\n",
    "new_df.to_csv('equal_job_postings.csv')"
   ]
  }
 ],
 "metadata": {
  "kernelspec": {
   "display_name": "Python 3",
   "language": "python",
   "name": "python3"
  },
  "language_info": {
   "codemirror_mode": {
    "name": "ipython",
    "version": 3
   },
   "file_extension": ".py",
   "mimetype": "text/x-python",
   "name": "python",
   "nbconvert_exporter": "python",
   "pygments_lexer": "ipython3",
   "version": "3.8.8"
  }
 },
 "nbformat": 4,
 "nbformat_minor": 5
}
